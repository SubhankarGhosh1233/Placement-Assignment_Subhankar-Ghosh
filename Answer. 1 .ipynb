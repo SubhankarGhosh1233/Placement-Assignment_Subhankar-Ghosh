{
 "cells": [
  {
   "cell_type": "markdown",
   "id": "0b4b5efe",
   "metadata": {},
   "source": [
    "## Answer. 1 Python "
   ]
  },
  {
   "cell_type": "code",
   "execution_count": 23,
   "id": "ef9549b9",
   "metadata": {},
   "outputs": [
    {
     "name": "stdout",
     "output_type": "stream",
     "text": [
      "5\n"
     ]
    }
   ],
   "source": [
    "string = \"write write write all the number from from from 1 to 100\"\n",
    "s =string.split()\n",
    "freq =dict()\n",
    "for word in s:\n",
    "    if word in freq:\n",
    "        freq[word] += 1\n",
    "    else:\n",
    "        freq[word]= 1\n",
    "        \n",
    "freq_list = sorted(freq, key=freq.get, reverse=True)\n",
    "print( len(freq_list[0]))"
   ]
  },
  {
   "cell_type": "code",
   "execution_count": null,
   "id": "676447a7",
   "metadata": {},
   "outputs": [],
   "source": []
  }
 ],
 "metadata": {
  "kernelspec": {
   "display_name": "Python 3 (ipykernel)",
   "language": "python",
   "name": "python3"
  },
  "language_info": {
   "codemirror_mode": {
    "name": "ipython",
    "version": 3
   },
   "file_extension": ".py",
   "mimetype": "text/x-python",
   "name": "python",
   "nbconvert_exporter": "python",
   "pygments_lexer": "ipython3",
   "version": "3.9.12"
  }
 },
 "nbformat": 4,
 "nbformat_minor": 5
}
