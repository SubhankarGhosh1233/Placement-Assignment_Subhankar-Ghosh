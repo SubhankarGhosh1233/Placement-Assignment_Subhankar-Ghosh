{
 "cells": [
  {
   "cell_type": "markdown",
   "id": "f2a4051a",
   "metadata": {},
   "source": [
    "## Answer. 2 Python "
   ]
  },
  {
   "cell_type": "code",
   "execution_count": 11,
   "id": "2e2b6639",
   "metadata": {},
   "outputs": [
    {
     "name": "stdout",
     "output_type": "stream",
     "text": [
      "YES\n"
     ]
    }
   ],
   "source": [
    "def isValid(string):\n",
    "    if len (string)==1:\n",
    "        return \"YES\"\n",
    "    d={}\n",
    "    for x in string:\n",
    "        if x not in d.keys():\n",
    "            d[x]=1\n",
    "        else:\n",
    "            d[x]=d[x]+1\n",
    "    arr=[]\n",
    "    for x in d.keys():\n",
    "        arr.append(d[x])\n",
    "    arr.sort()\n",
    "    \n",
    "    n = len(arr)\n",
    "    \n",
    "    if (arr[n-2]+1==arr[n-1] and arr[0]==arr[n-2]):\n",
    "        return \"YES\"\n",
    "    if (arr[0]==arr[n-1]):\n",
    "        return \"YES\"\n",
    "    if (arr[0]==1 and arr[1]==arr[n-1]):\n",
    "        return \"YES\"\n",
    "    return \"NO\"\n",
    "print(isValid(\"abc\"))\n"
   ]
  },
  {
   "cell_type": "code",
   "execution_count": null,
   "id": "2d986039",
   "metadata": {},
   "outputs": [],
   "source": []
  }
 ],
 "metadata": {
  "kernelspec": {
   "display_name": "Python 3 (ipykernel)",
   "language": "python",
   "name": "python3"
  },
  "language_info": {
   "codemirror_mode": {
    "name": "ipython",
    "version": 3
   },
   "file_extension": ".py",
   "mimetype": "text/x-python",
   "name": "python",
   "nbconvert_exporter": "python",
   "pygments_lexer": "ipython3",
   "version": "3.9.12"
  }
 },
 "nbformat": 4,
 "nbformat_minor": 5
}
